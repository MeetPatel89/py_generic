{
 "cells": [
  {
   "cell_type": "code",
   "execution_count": 8,
   "metadata": {},
   "outputs": [],
   "source": [
    "import pandas as pd\n",
    "import numpy as np\n",
    "import pyodbc as pyodbc\n",
    "import time_series as ts"
   ]
  },
  {
   "cell_type": "code",
   "execution_count": 9,
   "metadata": {},
   "outputs": [
    {
     "data": {
      "text/html": [
       "<div>\n",
       "<style scoped>\n",
       "    .dataframe tbody tr th:only-of-type {\n",
       "        vertical-align: middle;\n",
       "    }\n",
       "\n",
       "    .dataframe tbody tr th {\n",
       "        vertical-align: top;\n",
       "    }\n",
       "\n",
       "    .dataframe thead th {\n",
       "        text-align: right;\n",
       "    }\n",
       "</style>\n",
       "<table border=\"1\" class=\"dataframe\">\n",
       "  <thead>\n",
       "    <tr style=\"text-align: right;\">\n",
       "      <th></th>\n",
       "      <th>Date_1</th>\n",
       "      <th>data</th>\n",
       "      <th>Date_2</th>\n",
       "      <th>Date_Diff</th>\n",
       "      <th>Date_Diff_Seconds</th>\n",
       "    </tr>\n",
       "  </thead>\n",
       "  <tbody>\n",
       "    <tr>\n",
       "      <th>0</th>\n",
       "      <td>2000-01-01 00:00:00</td>\n",
       "      <td>4</td>\n",
       "      <td>2003-01-23 00:00:00</td>\n",
       "      <td>1118 days 00:00:00</td>\n",
       "      <td>96595200.0</td>\n",
       "    </tr>\n",
       "    <tr>\n",
       "      <th>1</th>\n",
       "      <td>2000-01-01 00:01:00</td>\n",
       "      <td>10</td>\n",
       "      <td>2003-01-23 00:00:30</td>\n",
       "      <td>1117 days 23:59:30</td>\n",
       "      <td>96595170.0</td>\n",
       "    </tr>\n",
       "    <tr>\n",
       "      <th>2</th>\n",
       "      <td>2000-01-01 00:02:00</td>\n",
       "      <td>7</td>\n",
       "      <td>2003-01-23 00:01:00</td>\n",
       "      <td>1117 days 23:59:00</td>\n",
       "      <td>96595140.0</td>\n",
       "    </tr>\n",
       "    <tr>\n",
       "      <th>3</th>\n",
       "      <td>2000-01-01 00:03:00</td>\n",
       "      <td>3</td>\n",
       "      <td>2003-01-23 00:01:30</td>\n",
       "      <td>1117 days 23:58:30</td>\n",
       "      <td>96595110.0</td>\n",
       "    </tr>\n",
       "    <tr>\n",
       "      <th>4</th>\n",
       "      <td>2000-01-01 00:04:00</td>\n",
       "      <td>7</td>\n",
       "      <td>2003-01-23 00:02:00</td>\n",
       "      <td>1117 days 23:58:00</td>\n",
       "      <td>96595080.0</td>\n",
       "    </tr>\n",
       "    <tr>\n",
       "      <th>5</th>\n",
       "      <td>2000-01-01 00:05:00</td>\n",
       "      <td>8</td>\n",
       "      <td>2003-01-23 00:02:30</td>\n",
       "      <td>1117 days 23:57:30</td>\n",
       "      <td>96595050.0</td>\n",
       "    </tr>\n",
       "    <tr>\n",
       "      <th>6</th>\n",
       "      <td>2000-01-01 00:06:00</td>\n",
       "      <td>2</td>\n",
       "      <td>2003-01-23 00:03:00</td>\n",
       "      <td>1117 days 23:57:00</td>\n",
       "      <td>96595020.0</td>\n",
       "    </tr>\n",
       "  </tbody>\n",
       "</table>\n",
       "</div>"
      ],
      "text/plain": [
       "               Date_1  data              Date_2          Date_Diff  \\\n",
       "0 2000-01-01 00:00:00     4 2003-01-23 00:00:00 1118 days 00:00:00   \n",
       "1 2000-01-01 00:01:00    10 2003-01-23 00:00:30 1117 days 23:59:30   \n",
       "2 2000-01-01 00:02:00     7 2003-01-23 00:01:00 1117 days 23:59:00   \n",
       "3 2000-01-01 00:03:00     3 2003-01-23 00:01:30 1117 days 23:58:30   \n",
       "4 2000-01-01 00:04:00     7 2003-01-23 00:02:00 1117 days 23:58:00   \n",
       "5 2000-01-01 00:05:00     8 2003-01-23 00:02:30 1117 days 23:57:30   \n",
       "6 2000-01-01 00:06:00     2 2003-01-23 00:03:00 1117 days 23:57:00   \n",
       "\n",
       "   Date_Diff_Seconds  \n",
       "0         96595200.0  \n",
       "1         96595170.0  \n",
       "2         96595140.0  \n",
       "3         96595110.0  \n",
       "4         96595080.0  \n",
       "5         96595050.0  \n",
       "6         96595020.0  "
      ]
     },
     "execution_count": 9,
     "metadata": {},
     "output_type": "execute_result"
    }
   ],
   "source": [
    "ts.df"
   ]
  },
  {
   "cell_type": "code",
   "execution_count": 10,
   "metadata": {},
   "outputs": [
    {
     "data": {
      "text/html": [
       "<div>\n",
       "<style scoped>\n",
       "    .dataframe tbody tr th:only-of-type {\n",
       "        vertical-align: middle;\n",
       "    }\n",
       "\n",
       "    .dataframe tbody tr th {\n",
       "        vertical-align: top;\n",
       "    }\n",
       "\n",
       "    .dataframe thead th {\n",
       "        text-align: right;\n",
       "    }\n",
       "</style>\n",
       "<table border=\"1\" class=\"dataframe\">\n",
       "  <thead>\n",
       "    <tr style=\"text-align: right;\">\n",
       "      <th></th>\n",
       "      <th>data</th>\n",
       "      <th>Date_Diff_Mean</th>\n",
       "      <th>Date_Diff_Sum</th>\n",
       "      <th>Date_Diff_Secs_Mean</th>\n",
       "      <th>Date_Diff_Secs_Sum</th>\n",
       "    </tr>\n",
       "  </thead>\n",
       "  <tbody>\n",
       "    <tr>\n",
       "      <th>0</th>\n",
       "      <td>2</td>\n",
       "      <td>1117 days 23:57:00</td>\n",
       "      <td>1117 days 23:57:00</td>\n",
       "      <td>96595020.0</td>\n",
       "      <td>96595020.0</td>\n",
       "    </tr>\n",
       "    <tr>\n",
       "      <th>1</th>\n",
       "      <td>3</td>\n",
       "      <td>1117 days 23:58:30</td>\n",
       "      <td>1117 days 23:58:30</td>\n",
       "      <td>96595110.0</td>\n",
       "      <td>96595110.0</td>\n",
       "    </tr>\n",
       "    <tr>\n",
       "      <th>2</th>\n",
       "      <td>4</td>\n",
       "      <td>1118 days 00:00:00</td>\n",
       "      <td>1118 days 00:00:00</td>\n",
       "      <td>96595200.0</td>\n",
       "      <td>96595200.0</td>\n",
       "    </tr>\n",
       "    <tr>\n",
       "      <th>3</th>\n",
       "      <td>7</td>\n",
       "      <td>1117 days 23:58:30</td>\n",
       "      <td>2235 days 23:57:00</td>\n",
       "      <td>96595110.0</td>\n",
       "      <td>193190220.0</td>\n",
       "    </tr>\n",
       "    <tr>\n",
       "      <th>4</th>\n",
       "      <td>8</td>\n",
       "      <td>1117 days 23:57:30</td>\n",
       "      <td>1117 days 23:57:30</td>\n",
       "      <td>96595050.0</td>\n",
       "      <td>96595050.0</td>\n",
       "    </tr>\n",
       "    <tr>\n",
       "      <th>5</th>\n",
       "      <td>10</td>\n",
       "      <td>1117 days 23:59:30</td>\n",
       "      <td>1117 days 23:59:30</td>\n",
       "      <td>96595170.0</td>\n",
       "      <td>96595170.0</td>\n",
       "    </tr>\n",
       "  </tbody>\n",
       "</table>\n",
       "</div>"
      ],
      "text/plain": [
       "   data     Date_Diff_Mean      Date_Diff_Sum  Date_Diff_Secs_Mean  \\\n",
       "0     2 1117 days 23:57:00 1117 days 23:57:00           96595020.0   \n",
       "1     3 1117 days 23:58:30 1117 days 23:58:30           96595110.0   \n",
       "2     4 1118 days 00:00:00 1118 days 00:00:00           96595200.0   \n",
       "3     7 1117 days 23:58:30 2235 days 23:57:00           96595110.0   \n",
       "4     8 1117 days 23:57:30 1117 days 23:57:30           96595050.0   \n",
       "5    10 1117 days 23:59:30 1117 days 23:59:30           96595170.0   \n",
       "\n",
       "   Date_Diff_Secs_Sum  \n",
       "0          96595020.0  \n",
       "1          96595110.0  \n",
       "2          96595200.0  \n",
       "3         193190220.0  \n",
       "4          96595050.0  \n",
       "5          96595170.0  "
      ]
     },
     "execution_count": 10,
     "metadata": {},
     "output_type": "execute_result"
    }
   ],
   "source": [
    "ts.agg_df"
   ]
  },
  {
   "attachments": {},
   "cell_type": "markdown",
   "metadata": {},
   "source": [
    "#### Connect to sql server db and load ts.df dataset"
   ]
  },
  {
   "cell_type": "code",
   "execution_count": 11,
   "metadata": {},
   "outputs": [],
   "source": [
    "DRIVER = \"SQL Server\"\n",
    "SERVER_NAME = \"LAPTOP-S1EISQB0\"\n",
    "DB_NAME = \"newdb\""
   ]
  },
  {
   "cell_type": "code",
   "execution_count": 12,
   "metadata": {},
   "outputs": [],
   "source": [
    "conn_str = (f\"Driver={DRIVER};Server={SERVER_NAME};Database={DB_NAME};Trusted_Connection=yes;\")\n",
    "conn = pyodbc.connect(conn_str)\n",
    "conn.autocommit = True \n",
    "cursor = conn.cursor()"
   ]
  },
  {
   "cell_type": "code",
   "execution_count": 13,
   "metadata": {},
   "outputs": [],
   "source": [
    "# query to create table\n",
    "ddl_query = \"\"\"\n",
    "drop table if exists exp_dataset_2;\n",
    "create table exp_dataset (\n",
    "    Date_1 datetime not null,\n",
    "    Date_2 datetime not null,\n",
    "    Data smallint not null,\n",
    "    Constraint PK_ts_ID Primary Key (Date_1, Date_2)\n",
    ");\n",
    "\"\"\""
   ]
  },
  {
   "cell_type": "code",
   "execution_count": 14,
   "metadata": {},
   "outputs": [
    {
     "data": {
      "text/plain": [
       "<pyodbc.Cursor at 0x25fb052ebb0>"
      ]
     },
     "execution_count": 14,
     "metadata": {},
     "output_type": "execute_result"
    }
   ],
   "source": [
    "cursor.execute(ddl_query)"
   ]
  },
  {
   "cell_type": "code",
   "execution_count": null,
   "metadata": {},
   "outputs": [],
   "source": []
  }
 ],
 "metadata": {
  "kernelspec": {
   "display_name": "Python 3",
   "language": "python",
   "name": "python3"
  },
  "language_info": {
   "codemirror_mode": {
    "name": "ipython",
    "version": 3
   },
   "file_extension": ".py",
   "mimetype": "text/x-python",
   "name": "python",
   "nbconvert_exporter": "python",
   "pygments_lexer": "ipython3",
   "version": "3.10.6"
  },
  "orig_nbformat": 4,
  "vscode": {
   "interpreter": {
    "hash": "0c62ecade22fff4c1d31446e36615b3ce67a81b5933d46e8d3b7993b34a0b8fe"
   }
  }
 },
 "nbformat": 4,
 "nbformat_minor": 2
}
